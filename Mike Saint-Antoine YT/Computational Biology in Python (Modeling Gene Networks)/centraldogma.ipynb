{
 "cells": [
  {
   "cell_type": "code",
   "execution_count": 1,
   "metadata": {},
   "outputs": [],
   "source": [
    "import numpy as np\n",
    "import matplotlib.pyplot as plt\n",
    "from scipy.integrate import odeint #for ordinary differential equations\n",
    "\n",
    "#y0 - initial conditions; convention for ODEs\n",
    "y0 = [0,0] #start with 0 mRNAs, 0 proteins\n",
    "\n",
    "#time points\n",
    "t = np.linspace(0,200,num=100) #num = 100 different time point\n",
    "\n",
    "k_m = 0.2\n",
    "gamma_m = 0.05 #good simulation if gamma_m < k_m\n",
    "k_p = 0.4\n",
    "gamma_p = 0.1 #good simulation if gamma_p < k_p\n",
    "\n",
    "\n",
    "#set all params in an array\n",
    "params = [k_m, gamma_m, k_p, gamma_p]\n"
   ]
  }
 ],
 "metadata": {
  "kernelspec": {
   "display_name": "Python 3",
   "language": "python",
   "name": "python3"
  },
  "language_info": {
   "codemirror_mode": {
    "name": "ipython",
    "version": 3
   },
   "file_extension": ".py",
   "mimetype": "text/x-python",
   "name": "python",
   "nbconvert_exporter": "python",
   "pygments_lexer": "ipython3",
   "version": "3.11.9"
  }
 },
 "nbformat": 4,
 "nbformat_minor": 2
}
