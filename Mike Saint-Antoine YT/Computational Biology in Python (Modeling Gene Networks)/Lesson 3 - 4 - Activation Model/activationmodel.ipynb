{
 "cells": [
  {
   "cell_type": "code",
   "execution_count": 1,
   "metadata": {},
   "outputs": [],
   "source": [
    "import numpy as np\n",
    "import matplotlib.pyplot as plt\n",
    "from scipy.integrate import odeint\n",
    "\n",
    "#y0 = [g1,g2]\n",
    "y0 = [0,0]\n",
    "\n",
    "\n",
    "#timepoint\n",
    "t = np.linspace(0,200,num=100) #num = 100 time points\n",
    "\n",
    "k_1 = 0.5\n",
    "gamma_1 = 0.2 #we can set this to < k_1 so that we can see the steady_state\n",
    "k_2 = 0.5\n",
    "gamma_2 = 0.05\n",
    "c = 5\n",
    "n = 5\n",
    "\n",
    "params = [k_1, gamma_1, k_2, gamma_2, c, n]\n",
    "\n",
    "def sim(variables, t, params):\n",
    "    g1 = variables[0]\n",
    "    g2 = variables[1]\n",
    "    \n",
    "    k_1 = params[0]\n",
    "    gamma_1 = params[1]\n",
    "    k_2 = params[2]\n",
    "    gamma_2 = params[3]\n",
    "    c = params[4]\n",
    "    n = params[5]\n",
    "    \n",
    "    dG1dt = k_1 - gamma_1*g1\n",
    "    dG2dt = k_2 - gamma_2*g2 + c*g1**n\n",
    "    return [dG1dt, dG2dt]\n",
    "\n"
   ]
  }
 ],
 "metadata": {
  "kernelspec": {
   "display_name": "Python 3",
   "language": "python",
   "name": "python3"
  },
  "language_info": {
   "codemirror_mode": {
    "name": "ipython",
    "version": 3
   },
   "file_extension": ".py",
   "mimetype": "text/x-python",
   "name": "python",
   "nbconvert_exporter": "python",
   "pygments_lexer": "ipython3",
   "version": "3.11.9"
  }
 },
 "nbformat": 4,
 "nbformat_minor": 2
}
