{
 "cells": [
  {
   "cell_type": "code",
   "execution_count": 116,
   "metadata": {},
   "outputs": [],
   "source": [
    "# gene1 = 'AAGGCTT'\n",
    "# gene2 = 'AAGGC'\n",
    "\n",
    "def gene_ident(in_1,in_2):\n",
    "    gene1 = in_1\n",
    "    gene2 = in_2    \n",
    "\n",
    "    lst=[]\n",
    "    lst2 = []\n",
    "    lstMatch = [] \n",
    "\n",
    "    for i in range(0,len(gene1)):\n",
    "        lst.append(gene1[i])\n",
    "\n",
    "    for j in range(0,len(gene2)):\n",
    "        lst2.append(gene2[j])    \n",
    "\n",
    "    if len(lst2) != len(lst):\n",
    "        min_len = min(len(lst),len(lst2))\n",
    "\n",
    "    for k in range(0,len(lst)):\n",
    "        if k >= len(lst2):\n",
    "            for m in range(len(lst2),len(lst)):\n",
    "                print('gene1: ',lst[m],' gene2   >> GAP')\n",
    "            break\n",
    "\n",
    "        if lst[k] == lst2[k]:\n",
    "            lstMatch.append(lst[k])\n",
    "            print('gene1: ',lst[k],' gene2',lst2[k],'>> match')\n",
    "        else:\n",
    "            print('unmatched!')\n",
    "    \n",
    "    #compute for gene identity\n",
    "    identity = (len(lstMatch)) / min_len * 100\n",
    "\n",
    "    return identity\n"
   ]
  },
  {
   "cell_type": "code",
   "execution_count": 120,
   "metadata": {},
   "outputs": [
    {
     "name": "stdout",
     "output_type": "stream",
     "text": [
      "gene1:  A  gene2 A >> match\n",
      "unmatched!\n",
      "gene1:  G  gene2 G >> match\n",
      "unmatched!\n",
      "unmatched!\n",
      "gene1:  T  gene2 T >> match\n",
      "gene1:  T  gene2   >> GAP\n"
     ]
    },
    {
     "data": {
      "text/plain": [
       "50.0"
      ]
     },
     "execution_count": 120,
     "metadata": {},
     "output_type": "execute_result"
    }
   ],
   "source": [
    "gene1 = 'AAGGCTT'\n",
    "gene2 = 'ATGAAT'\n",
    "\n",
    "gene_ident(gene1,gene2)"
   ]
  }
 ],
 "metadata": {
  "kernelspec": {
   "display_name": "Python 3",
   "language": "python",
   "name": "python3"
  },
  "language_info": {
   "codemirror_mode": {
    "name": "ipython",
    "version": 3
   },
   "file_extension": ".py",
   "mimetype": "text/x-python",
   "name": "python",
   "nbconvert_exporter": "python",
   "pygments_lexer": "ipython3",
   "version": "3.11.9"
  }
 },
 "nbformat": 4,
 "nbformat_minor": 2
}
